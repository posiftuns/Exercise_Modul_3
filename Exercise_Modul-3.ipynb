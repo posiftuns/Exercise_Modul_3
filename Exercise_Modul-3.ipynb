{
 "cells": [
  {
   "cell_type": "markdown",
   "metadata": {},
   "source": [
    "***\n",
    "<h1 align=\"center\">Exercise 3</h1>\n",
    " \n",
    "***"
   ]
  },
  {
   "cell_type": "markdown",
   "metadata": {},
   "source": [
    "Nama&nbsp;&nbsp;: ... <br>\n",
    "NIM&emsp;&nbsp;: ...<br>\n",
    "Kelas&nbsp;&nbsp;&nbsp;: ..."
   ]
  },
  {
   "cell_type": "markdown",
   "metadata": {},
   "source": [
    "## Mengerjakan Exercise\n",
    "Sebagian besar file pengerjaan *exercise* berbentuk **Jupyter Notebook** yang berformat **.ipynb**. Pengerjaan *exercise* dapat dilakukan dengan memperhatikan petunjuk dan catatan yang sudah diberikan. Dimohon untuk membaca dan memperhatikan setiap langkah dan materi pada *exercise* supaya materi pembelajaran dapat dipahami secara maksimal.\n",
    "\n",
    "Selamat mengerjakan!"
   ]
  },
  {
   "cell_type": "markdown",
   "metadata": {},
   "source": [
    "## If ... Statement\n"
   ]
  },
  {
   "cell_type": "markdown",
   "metadata": {},
   "source": [
    "_Conditional statement_ paling dasar menggunakan _keyword_ `if ...` yang ditulis dengan format seperti di bawah ini.\n",
    "```python:\n",
    "if (kondisi):\n",
    "    kode/perintah yang akan dijalankan jika memenuhi kondisi\n",
    "```\n",
    "Dalam menulis blok kode `if ...`, kita perlu memerhatikan indent."
   ]
  },
  {
   "cell_type": "markdown",
   "metadata": {},
   "source": [
    "Coba kita membuat program yang dapat membandingkan nilai dari dua variabel menggunakan _keyword_ `if` pada baris kode di bawah ini."
   ]
  },
  {
   "cell_type": "code",
   "execution_count": 1,
   "metadata": {
    "notebookRunGroups": {
     "groupValue": ""
    },
    "tags": []
   },
   "outputs": [
    {
     "name": "stdout",
     "output_type": "stream",
     "text": [
      "Kedua variabel bernilai sama!\n"
     ]
    }
   ],
   "source": [
    "# Buat variabel\n",
    "x = 33 # Lengkapi bagian kosong (...) dengan angka bebas\n",
    "y = 33 # Lengkapi bagian kosong (...) dengan angka bebas yang sama dengan x\n",
    "\n",
    "# Conditional statement\n",
    "if x == y :\n",
    "    print(\"Kedua variabel bernilai sama!\")\n",
    "\n",
    "# Output diharapkan:\n",
    "# Kedua variabel bernilai sama!"
   ]
  },
  {
   "cell_type": "markdown",
   "metadata": {},
   "source": [
    "Baris kode di atas membandingkan kedua nilai variable \"x\" dan \"y\" berdasarkan _statement_ `if x == y`. _Statement_ `x == y` akan bernilai **TRUE** ketika `x` dan `y` memang memiliki nilai yang sama dan  `x == y` akan bernilai **FALSE** ketika `x` dan `y` memiliki nilai yang berbeda. Jika _statement_ `x == y` bernilai **TRUE**, maka baris kode `print(\"Kedua variabel bernilai sama!\")` akan dijalankan."
   ]
  },
  {
   "cell_type": "markdown",
   "metadata": {},
   "source": [
    "Lalu, bagaimana jika `x` dan `y` memiliki nilai yang berbeda? Mari kita coba eksperimen di baris kode di bawah."
   ]
  },
  {
   "cell_type": "code",
   "execution_count": 2,
   "metadata": {},
   "outputs": [],
   "source": [
    "# Buat variabel\n",
    "x = 33 # Lengkapi bagian kosong (...) dengan angka bebas\n",
    "y = 31 # Lengkapi bagian kosong (...) dengan angka bebas yang BERBEDA dengan x\n",
    "\n",
    "# Conditional statement\n",
    "if x == y :\n",
    "    print(\"Kedua variabel bernilai sama!\")"
   ]
  },
  {
   "cell_type": "markdown",
   "metadata": {},
   "source": [
    "Jawab pertanyaan di bawah ini!\n",
    "1. Bagaimana hasil atau output dari program tersebut di jalankan?\n",
    "2. Kenapa program tersebut dapat mengeluarkan *output* seperti demikian?"
   ]
  },
  {
   "cell_type": "raw",
   "metadata": {},
   "source": [
    "Jawaban:\n",
    "1. ...\n",
    "2. ..."
   ]
  },
  {
   "cell_type": "markdown",
   "metadata": {},
   "source": [
    "Jika kalian sudah mengetahui jawaban dari kedua pertanyaan di atas, berarti teman-teman bisa mengetahui alasan mengapa kita perlu mempelajari *conditional statement* selanjutnya."
   ]
  },
  {
   "cell_type": "markdown",
   "metadata": {},
   "source": [
    "## If ... Else ... Statement\n"
   ]
  },
  {
   "cell_type": "markdown",
   "metadata": {},
   "source": [
    "_Conditional statement_ selanjutnya menggunakan _keyword_ `if` dan `else` yang ditulis dengan format seperti di bawah ini.\n",
    "```python:\n",
    "if (kondisi):\n",
    "    kode/perintah yang akan dijalankan jika memenuhi kondisi\n",
    "else:\n",
    "    kode/perintah yang akan dijalankan jika tidak memenuhi kondisi apapun"
   ]
  },
  {
   "cell_type": "markdown",
   "metadata": {},
   "source": [
    "Coba kita membandingkan kembali nilai dari dua variabel menggunakan _keyword_ `if` dan `else` pada baris kode di bawah ini."
   ]
  },
  {
   "cell_type": "code",
   "execution_count": 4,
   "metadata": {},
   "outputs": [
    {
     "name": "stdout",
     "output_type": "stream",
     "text": [
      "Kedua variabel bernilai tidak sama!\n"
     ]
    }
   ],
   "source": [
    "# Variabel\n",
    "x = 7\n",
    "y = 9\n",
    "\n",
    "# Conditional statement\n",
    "if x != y : # Lengkapi bagian kosong (...) dengan syarat yang tepat\n",
    "    print(\"Kedua variabel bernilai tidak sama!\")\n",
    "else:\n",
    "    print(\"Kedua variabel bernilai sama!\")\n",
    "\n",
    "# Output diharapkan:\n",
    "# Kedua variabel bernilai tidak sama!"
   ]
  },
  {
   "cell_type": "markdown",
   "metadata": {},
   "source": [
    "Pada program di atas, `x` memiliki nilai 7 dan `y` memiliki nilai 9 yang nantinya akan diperiksa melalui *conditional statement*. Pada blok `if`, perintah `print(\"Kedua variabel bernilai tidak sama!\")` akan dijalankan jika kondisi terpenuhi, sedangkan pada blok `else`, perintah `print(\"Kedua variabel bernilai sama!\")` akan dijalankan jika tidak memenuhi kondisi yang didefinisikan sebelumnya. Lengkapi kode di atas supaya output yang keluar sesuai dengan yang diinginkan!"
   ]
  },
  {
   "cell_type": "markdown",
   "metadata": {},
   "source": [
    "Kita coba lagi dengan membuat program yang memeriksa apakah angka yang diinput merupakan angka positif atau negatif. Lengkapi kode program di bawah ini."
   ]
  },
  {
   "cell_type": "code",
   "execution_count": 5,
   "metadata": {},
   "outputs": [
    {
     "name": "stdout",
     "output_type": "stream",
     "text": [
      "Angka 2 adalah bilangan negatif\n"
     ]
    }
   ],
   "source": [
    "# Input\n",
    "angka = int(input(\"Input angka: \")) # Lengkapi bagian kosong (...) dengan keyword yang memungkinkan pengguna untuk melakukan input\n",
    "\n",
    "# Conditional statement\n",
    "if angka > 0 : # Lengkapi bagian kosong (...) dengan statement syarat/kondisi yang tepat\n",
    "    print(\"Angka\", angka, \"adalah bilangan positif\")\n",
    "else:\n",
    "    print(\"Angka\", angka, \"adalah bilangan negatif\")"
   ]
  },
  {
   "cell_type": "markdown",
   "metadata": {},
   "source": [
    "Dari blok kode di atas, kita dapat mengidentifikasi angka yang diinput merupakan bilangan positif atau negatif. Angka positif merupakan angka yang nilainya lebih besar dari 0 (angka > 0), sedangkan angka negatif merupakan angka yang nilainya lebih kecil dari 0 (angka < 0). Namun, kita perlu ketahui bahwa angka 0 tidak termasuk angka positif atau negatif."
   ]
  },
  {
   "cell_type": "markdown",
   "metadata": {},
   "source": [
    "Lalu, bagaimana jika ingin membuat kondisi yang berbeda jika angka yang diinput adalah 0? Karena ingin menambahkan kondisi lain, kita perlu mempelajari *keyword* selanjutnya, yaitu `elif ...`."
   ]
  },
  {
   "cell_type": "markdown",
   "metadata": {},
   "source": [
    "## If ... Elif ... Else ... Statement\n"
   ]
  },
  {
   "cell_type": "markdown",
   "metadata": {},
   "source": [
    "_Conditional statement_ selanjutnya menggunakan _keyword_ `if`, `elif`, dan `else` yang dipadukan dengan format seperti di bawah ini.\n",
    "```python:\n",
    "if (kondisi 1):\n",
    "    kode/perintah yang akan dijalankan jika memenuhi kondisi 1\n",
    "elif (kondisi 2):\n",
    "    kode/perintah yang akan dijalankan jika memenuhi kondisi 2\n",
    "else:\n",
    "    kode/perintah yang akan dijalankan jika tidak memenuhi kondisi apapun"
   ]
  },
  {
   "cell_type": "markdown",
   "metadata": {},
   "source": [
    "Kita kembali lagi dengan program sebelumnya, yaitu program yang memeriksa apakah angka yang diinput merupakan angka positif atau negatif. Namun, kita berikan modifikasi dengan penambahan perlakuan jika angka bernilai 0."
   ]
  },
  {
   "cell_type": "code",
   "execution_count": null,
   "metadata": {},
   "outputs": [],
   "source": [
    "# Input\n",
    "angka = int(...(\"Input angka pertama: \")) # Lengkapi bagian kosong (...) dengan keyword yang memungkinkan pengguna untuk melakukan input\n",
    "\n",
    "# Conditional statement\n",
    "if ... : # Lengkapi bagian kosong (...) dengan statement syarat/kondisi yang tepat\n",
    "    print(\"Angka\", angka, \"adalah bilangan netral\")\n",
    "elif ... : # Lengkapi bagian kosong (...) dengan statement syarat/kondisi yang tepat\n",
    "    print(\"Angka\", angka, \"adalah bilangan positif\")\n",
    "else:\n",
    "    print(\"Angka\", angka, \"adalah bilangan negatif\")"
   ]
  },
  {
   "cell_type": "markdown",
   "metadata": {},
   "source": [
    "Pada kode di atas, kita memberikan modifikasi pada program sebelumnya dengan menambahkan kondisi baru. Seperti yang kita lihat, penambahan kondisi dapat menggunakan *keyword* `elif` dan dilengkapi dengan *statement* kondisi alternatifnya. Akan tetapi, ketika kita membuat program seperti ini, kita perlu memperhatikan urutan penulisan kondisi karena bahasa Python akan membaca program mulai dari atas ke bawah."
   ]
  },
  {
   "cell_type": "markdown",
   "metadata": {},
   "source": [
    "Bagaimana cara menentukan urutan penulisannya? Sebenarnya, kembali lagi ke desain program kalian. Untuk lebih jelasnya, perhatikan dan jalankan kedua *cell* program di bawah ini!"
   ]
  },
  {
   "cell_type": "code",
   "execution_count": null,
   "metadata": {},
   "outputs": [],
   "source": [
    "# Program Mengategorikan Umur (versi 1)\n",
    "\n",
    "input_umur = int(input(\"Masukkan umur: \")) # Dengan asumsi input selalu bernilai bilangan bulat di atas 0\n",
    "\n",
    "if input_umur >= 46:\n",
    "    kategori_umur = \"Lansia\"\n",
    "elif input_umur >= 26:\n",
    "    kategori_umur = \"Dewasa\"\n",
    "elif input_umur >= 12:\n",
    "    kategori_umur = \"Remaja\"\n",
    "elif input_umur >= 5:\n",
    "    kategori_umur = \"Anak-anak\"\n",
    "else:\n",
    "    kategori_umur = \"Balita\"\n",
    "\n",
    "print(\"Umur:\", input_umur)\n",
    "print(\"Kategori umur:\", kategori_umur)"
   ]
  },
  {
   "cell_type": "code",
   "execution_count": null,
   "metadata": {},
   "outputs": [],
   "source": [
    "# Program Mengategorikan Umur (versi 2)\n",
    "\n",
    "input_umur = int(input(\"Masukkan umur: \")) # Dengan asumsi input selalu bernilai bilangan bulat di atas 0\n",
    "\n",
    "if input_umur < 5:\n",
    "    kategori_umur = \"Balita\"\n",
    "elif input_umur < 12:\n",
    "    kategori_umur = \"Anak-anak\"\n",
    "elif input_umur < 26:\n",
    "    kategori_umur = \"Remaja\"\n",
    "elif input_umur < 46:\n",
    "    kategori_umur = \"Dewasa\"\n",
    "else:\n",
    "    kategori_umur = \"Lansia\"\n",
    "\n",
    "\n",
    "print(\"Umur:\", input_umur)\n",
    "print(\"Kategori umur:\", kategori_umur)"
   ]
  },
  {
   "cell_type": "markdown",
   "metadata": {},
   "source": [
    "Kedua program di atas memiliki tujuan yang sama, yaitu mengategorikan umur. Kriteria tiap kategorinya pun sama, yaitu anak-anak untuk umur 5-11 tahun, remaja untuk umur 12-25 tahun, dewasa umur 26-45 tahun, dan lansia untuk 46 tahun ke atas. Setelah program dijalankan, dengan asumsi *input* selalu bernilai bilangan bulat di atas 0, kedua program dapat memberikan *output* yang sama. Maka dapat disimpulkan bahwa tata cara penulisan *statement* kondisi mengikuti alur logika atau desain program yang kalian buat."
   ]
  },
  {
   "cell_type": "markdown",
   "metadata": {},
   "source": [
    "Kita coba eksperimen lagi dengan membuat program yang mampu mengategorikan angka dalam 4 kategori, yaitu ganjil positif, ganjil negatif, genap positif, dan genap negatif. Perhatikan dan lengkapi kode di bawah ini!"
   ]
  },
  {
   "cell_type": "code",
   "execution_count": null,
   "metadata": {},
   "outputs": [],
   "source": [
    "# Input\n",
    "angka = int(input(\"Masukkan angka: \"))\n",
    "\n",
    "# Conditional statement\n",
    "if ... and ... : # Lengkapi bagian kosong (...) dengan statement syarat/kondisi yang sesuai dengan kriteria angka genap positif\n",
    "    print(\"Angka\", angka, \"adalah bilangan genap positif\")\n",
    "elif ... and ... : # Lengkapi bagian kosong (...) dengan statement syarat/kondisi yang sesuai dengan kriteria angka ganjil positif\n",
    "    print(\"Angka\", angka, \"adalah bilangan ganjil positif\")\n",
    "elif ... and ... : # Lengkapi bagian kosong (...) dengan statement syarat/kondisi yang sesuai dengan kriteria angka genap negatif\n",
    "    print(\"Angka\", angka, \"adalah bilangan genap negatif\")\n",
    "elif ... and ... : # Lengkapi bagian kosong (...) dengan statement syarat/kondisi yang sesuai dengan kriteria angka ganjil negatif\n",
    "    print(\"Angka\", angka, \"adalah bilangan ganjil negatif\")\n",
    "else:\n",
    "    print(\"Angka\", angka, \"adalah bilangan netral\")\n",
    "\n",
    "# Hint:\n",
    "# Manfaatkan operator modulus (%)"
   ]
  },
  {
   "cell_type": "markdown",
   "metadata": {},
   "source": [
    "Pada program di atas, dapat dilihat bahwa kita memanfaatkan *keyword* atau operator `and` pada *statement* syarat atau kondisinya. Cara penulisan seperti itu membuat program tertulis secara bertele-tele. Untuk dapat menyederhanakannya, kita dapat mempelajari konsep selanjutnya, yaitu **nested conditional statement**."
   ]
  },
  {
   "cell_type": "markdown",
   "metadata": {},
   "source": [
    "## Nested Conditional Statement"
   ]
  },
  {
   "cell_type": "markdown",
   "metadata": {},
   "source": [
    "Setelah mempelajari dasar membuat _conditional statement_, kita dapat beralih ke konsep _**nested conditional statement**_ atau pengondisian bersarang atau percabangan bersarang. Konsep ini sering digunakan di program-program kompleks. Contoh bentuk sederhana dari _**nested conditional statement**_ di Python adalah sebagai berikut:\n",
    "```python:\n",
    "if (kondisi 1):\n",
    "    if (kondisi 1.1):\n",
    "        kode/perintah yang akan dijalankan jika memenuhi subkondisi 1.1\n",
    "    elif (kondisi 1.2):\n",
    "        kode/perintah yang akan dijalankan jika memenuhi subkondisi 1.2\n",
    "    else:\n",
    "        kode/perintah yang akan dijalankan jika tidak memenuhi kondisi apapun\n",
    "elif (kondisi 2):\n",
    "    if (kondisi 2.1):\n",
    "        kode/perintah yang akan dijalankan jika memenuhi subkondisi 2.1\n",
    "    elif (kondisi 2.2):\n",
    "        kode/perintah yang akan dijalankan jika memenuhi subkondisi 2.2\n",
    "    else:\n",
    "        kode/perintah yang akan dijalankan jika tidak memenuhi kondisi apapun\n",
    "else:\n",
    "    kode/perintah yang akan dijalankan jika tidak memenuhi kondisi apapun"
   ]
  },
  {
   "cell_type": "markdown",
   "metadata": {},
   "source": [
    "Sekarang, kita coba modifikasi program sebelumnya dengan menggunakan konsep **nested conditional statement**."
   ]
  },
  {
   "cell_type": "code",
   "execution_count": null,
   "metadata": {},
   "outputs": [],
   "source": [
    "# Input\n",
    "angka = int(input(\"Masukkan angka: \"))\n",
    "\n",
    "# Conditional statement\n",
    "if ... : # Lengkapi bagian kosong (...) dengan statement syarat/kondisi yang sesuai\n",
    "    if ... :\n",
    "        print(\"Angka\", angka, \"adalah bilangan genap positif\")\n",
    "    else :\n",
    "        print(\"Angka\", angka, \"adalah bilangan ganjil positif\")\n",
    "elif ... :\n",
    "    if ... :\n",
    "        print(\"Angka\", angka, \"adalah bilangan genap negatif\")\n",
    "    else :\n",
    "        print(\"Angka\", angka, \"adalah bilangan ganjil negatif\")\n",
    "else :\n",
    "    print(\"Angka\", angka, \"adalah bilangan netral\")"
   ]
  },
  {
   "cell_type": "markdown",
   "metadata": {},
   "source": [
    "_**Nested conditional statement**_ sangat sering digunakan dalam berbagai kasus. _**Nested conditional statement**_ juga termasuk konsep dasar pemrograman yang sangat sering digunakan."
   ]
  },
  {
   "cell_type": "markdown",
   "metadata": {},
   "source": [
    "## Ternary Operators"
   ]
  },
  {
   "cell_type": "markdown",
   "metadata": {},
   "source": [
    "Dalam membuat *conditional statement* atau *conditional expression* pada Python, kita juga bisa menggunakan _**ternary operator**_. _**Ternary operator**_ adalah *statement* kondisi yang ditulis dalam satu baris saja."
   ]
  },
  {
   "cell_type": "markdown",
   "metadata": {},
   "source": [
    "Mari kita coba buat contoh sederhananya, perhatikan kode di bawah ini."
   ]
  },
  {
   "cell_type": "code",
   "execution_count": null,
   "metadata": {},
   "outputs": [],
   "source": [
    "# Variabel\n",
    "var = \"Hello, World!\"\n",
    "\n",
    "# Conditional statement (ternary operator)\n",
    "print('Variabel bertipe data \"string\"') if ... else print('Variabel bukan bertipe data \"string\"')\n",
    "\n",
    "# Output diharapkan:\n",
    "# Variabel bertipe data \"string\""
   ]
  },
  {
   "cell_type": "markdown",
   "metadata": {},
   "source": [
    "Dengan menggunakan _**ternary operator**_, kita bisa membuat *conditional statement* menjadi lebih ringkas jika memang kondisi yang ingin dinyatakan tidak terlalu kompleks atau panjang."
   ]
  },
  {
   "cell_type": "markdown",
   "metadata": {},
   "source": [
    "***\n",
    "<h1 align=\"center\">Well Done!!!</h1> \n",
    "\n",
    "***"
   ]
  }
 ],
 "metadata": {
  "kernelspec": {
   "display_name": "Python 3",
   "language": "python",
   "name": "python3"
  },
  "language_info": {
   "codemirror_mode": {
    "name": "ipython",
    "version": 3
   },
   "file_extension": ".py",
   "mimetype": "text/x-python",
   "name": "python",
   "nbconvert_exporter": "python",
   "pygments_lexer": "ipython3",
   "version": "3.12.2"
  }
 },
 "nbformat": 4,
 "nbformat_minor": 2
}
